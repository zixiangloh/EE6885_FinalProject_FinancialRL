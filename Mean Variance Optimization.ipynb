{
 "cells": [
  {
   "cell_type": "code",
   "execution_count": 15,
   "id": "1ef8644d",
   "metadata": {},
   "outputs": [],
   "source": [
    "import pandas as pd\n",
    "import numpy as np\n",
    "from scipy.optimize import minimize"
   ]
  },
  {
   "cell_type": "code",
   "execution_count": 35,
   "id": "b09188e4",
   "metadata": {},
   "outputs": [],
   "source": [
    "df = pd.read_csv('data/stock_returns.csv')[['tic', 'date', 'close']].rename(columns={'tic': 'Ticker',\n",
    "                                                                                     'close': 'Price',\n",
    "                                                                                     'date': 'Date'})"
   ]
  },
  {
   "cell_type": "code",
   "execution_count": 36,
   "id": "46958dff",
   "metadata": {},
   "outputs": [],
   "source": [
    "df['Date'] = pd.to_datetime(df['Date'], format='%Y-%m-%d')\n",
    "df.sort_values(by=['Ticker', 'Date'], inplace=True)"
   ]
  },
  {
   "cell_type": "code",
   "execution_count": 37,
   "id": "e85afb65",
   "metadata": {},
   "outputs": [],
   "source": [
    "df['Returns'] = df.groupby('Ticker')['Price'].pct_change()"
   ]
  },
  {
   "cell_type": "code",
   "execution_count": 38,
   "id": "c0e1b8d4",
   "metadata": {},
   "outputs": [],
   "source": [
    "window= 252"
   ]
  },
  {
   "cell_type": "markdown",
   "id": "03eee45f",
   "metadata": {},
   "source": [
    "#### Utils"
   ]
  },
  {
   "cell_type": "code",
   "execution_count": 39,
   "id": "3878389a",
   "metadata": {},
   "outputs": [],
   "source": [
    "def portfolio_variance(weights, cov_matrix):\n",
    "    return weights.dot(cov_matrix).dot(weights.T)"
   ]
  },
  {
   "cell_type": "code",
   "execution_count": 40,
   "id": "1d97fef4",
   "metadata": {},
   "outputs": [],
   "source": [
    "def mean_variance_optimization(returns_df, initial_weights):\n",
    "\n",
    "    # Calculate the covariance matrix\n",
    "    cov_matrix = returns_df.cov()   \n",
    "\n",
    "    # Constraints: weights sum to 1\n",
    "    constraints = ({'type': 'eq', 'fun': lambda x: np.sum(x) - 1}) \n",
    "\n",
    "    # Bounds for weights: can't hold more than 100% of any stock\n",
    "    bounds = tuple((0, 1) for _ in range(len(initial_weights)))\n",
    "\n",
    "    # Perform optimization to minimize portfolio variance\n",
    "    result = minimize(portfolio_variance, initial_weights, args=(cov_matrix,),\n",
    "                      method='SLSQP', bounds=bounds, constraints=constraints)\n",
    "\n",
    "    return result.x if result.success else None"
   ]
  },
  {
   "cell_type": "markdown",
   "id": "fb5aa1ab",
   "metadata": {},
   "source": [
    "#### State Variables"
   ]
  },
  {
   "cell_type": "code",
   "execution_count": 41,
   "id": "21e407b0",
   "metadata": {},
   "outputs": [],
   "source": [
    "# Initialize a dictionary to hold the allocations\n",
    "allocations = {}\n",
    "\n",
    "# Get unique dates\n",
    "unique_dates = df['Date'].unique()\n",
    "\n",
    "# Get unique tickers\n",
    "tickers = df['Ticker'].unique()\n",
    "\n",
    "# Initial weights (equal distribution)\n",
    "initial_weights = np.array([1/len(tickers)] * len(tickers))"
   ]
  },
  {
   "cell_type": "code",
   "execution_count": 42,
   "id": "fb4af357",
   "metadata": {},
   "outputs": [],
   "source": [
    "df = df[df['Date'] > pd.Timestamp('2019-12-31')]"
   ]
  },
  {
   "cell_type": "markdown",
   "id": "cfa174ce",
   "metadata": {},
   "source": [
    "#### Mean Variance Optimization"
   ]
  },
  {
   "cell_type": "code",
   "execution_count": 43,
   "id": "5ee6a911",
   "metadata": {},
   "outputs": [],
   "source": [
    "for date in unique_dates:\n",
    "\n",
    "    # Filter the DataFrame for the current date and past year\n",
    "    start_date = date - pd.DateOffset(years=1)\n",
    "    past_year_data = df[(df['Date'] > start_date) & (df['Date'] <= date)]\n",
    "   \n",
    "    # Skip dates with insufficient data\n",
    "    if past_year_data['Date'].nunique() < window:\n",
    "        continue\n",
    "\n",
    "    # Calculate the moving average of returns for the past year\n",
    "    moving_avg_returns = past_year_data.groupby('Ticker')['Returns'].mean()\n",
    "\n",
    "    # Create a DataFrame for the returns\n",
    "    returns_df = past_year_data.pivot(index='Date', columns='Ticker', values='Returns').dropna()\n",
    "\n",
    "    # Perform MVO\n",
    "    optimal_weights = mean_variance_optimization(returns_df, initial_weights)\n",
    "\n",
    "    # Store the allocations\n",
    "    allocations[date] = dict(zip(tickers, optimal_weights))"
   ]
  },
  {
   "cell_type": "code",
   "execution_count": 45,
   "id": "2f1ab3e7",
   "metadata": {},
   "outputs": [],
   "source": [
    "# Convert allocations to a DataFrame\n",
    "allocations_df = pd.DataFrame.from_dict(allocations, orient='index')"
   ]
  },
  {
   "cell_type": "code",
   "execution_count": 46,
   "id": "5755fd59",
   "metadata": {},
   "outputs": [
    {
     "name": "stdout",
     "output_type": "stream",
     "text": [
      "                AAPL      AMGN           AXP            BA       CAT  \\\n",
      "2020-12-30  0.004848  0.072195  3.740497e-18  0.000000e+00  0.003625   \n",
      "2020-12-31  0.005087  0.072098  0.000000e+00  1.409463e-18  0.003526   \n",
      "2021-01-04  0.005037  0.071643  4.662069e-18  1.317306e-17  0.004203   \n",
      "2021-01-05  0.005027  0.071620  0.000000e+00  0.000000e+00  0.004211   \n",
      "2021-01-06  0.004957  0.071160  3.794708e-18  1.894643e-17  0.001927   \n",
      "...              ...       ...           ...           ...       ...   \n",
      "2022-12-23  0.033333  0.033333  3.333333e-02  3.333333e-02  0.033333   \n",
      "2022-12-27  0.033333  0.033333  3.333333e-02  3.333333e-02  0.033333   \n",
      "2022-12-28  0.033333  0.033333  3.333333e-02  3.333333e-02  0.033333   \n",
      "2022-12-29  0.033333  0.033333  3.333333e-02  3.333333e-02  0.033333   \n",
      "2022-12-30  0.033333  0.033333  3.333333e-02  3.333333e-02  0.033333   \n",
      "\n",
      "                 CRM      CSCO           CVX       DIS           DOW  ...  \\\n",
      "2020-12-30  0.025885  0.014748  1.951564e-18  0.000599  2.818926e-18  ...   \n",
      "2020-12-31  0.025968  0.014716  0.000000e+00  0.000691  0.000000e+00  ...   \n",
      "2021-01-04  0.026260  0.015121  0.000000e+00  0.000878  0.000000e+00  ...   \n",
      "2021-01-05  0.026274  0.015181  1.870249e-18  0.000907  0.000000e+00  ...   \n",
      "2021-01-06  0.026616  0.014117  0.000000e+00  0.000198  5.692061e-19  ...   \n",
      "...              ...       ...           ...       ...           ...  ...   \n",
      "2022-12-23  0.033333  0.033333  3.333333e-02  0.033333  3.333333e-02  ...   \n",
      "2022-12-27  0.033333  0.033333  3.333333e-02  0.033333  3.333333e-02  ...   \n",
      "2022-12-28  0.033333  0.033333  3.333333e-02  0.033333  3.333333e-02  ...   \n",
      "2022-12-29  0.033333  0.033333  3.333333e-02  0.033333  3.333333e-02  ...   \n",
      "2022-12-30  0.033333  0.033333  3.333333e-02  0.033333  3.333333e-02  ...   \n",
      "\n",
      "                 MRK          MSFT       NKE        PG           TRV  \\\n",
      "2020-12-30  0.105852  0.000000e+00  0.038512  0.098975  0.000000e+00   \n",
      "2020-12-31  0.105729  0.000000e+00  0.038651  0.098947  0.000000e+00   \n",
      "2021-01-04  0.105694  5.602932e-05  0.038524  0.098399  5.421011e-19   \n",
      "2021-01-05  0.105656  1.366369e-04  0.038498  0.098345  0.000000e+00   \n",
      "2021-01-06  0.106355  1.019150e-17  0.038277  0.098856  1.897354e-19   \n",
      "...              ...           ...       ...       ...           ...   \n",
      "2022-12-23  0.033333  3.333333e-02  0.033333  0.033333  3.333333e-02   \n",
      "2022-12-27  0.033333  3.333333e-02  0.033333  0.033333  3.333333e-02   \n",
      "2022-12-28  0.033333  3.333333e-02  0.033333  0.033333  3.333333e-02   \n",
      "2022-12-29  0.033333  3.333333e-02  0.033333  0.033333  3.333333e-02   \n",
      "2022-12-30  0.033333  3.333333e-02  0.033333  0.033333  3.333333e-02   \n",
      "\n",
      "                     UNH             V        VZ       WBA       WMT  \n",
      "2020-12-30  7.535205e-18  5.041540e-18  0.153019  0.040139  0.155700  \n",
      "2020-12-31  2.981556e-18  1.246832e-18  0.153026  0.039983  0.155907  \n",
      "2021-01-04  0.000000e+00  0.000000e+00  0.152904  0.040911  0.156243  \n",
      "2021-01-05  0.000000e+00  0.000000e+00  0.152874  0.040991  0.156235  \n",
      "2021-01-06  0.000000e+00  0.000000e+00  0.154801  0.039516  0.158089  \n",
      "...                  ...           ...       ...       ...       ...  \n",
      "2022-12-23  3.333333e-02  3.333333e-02  0.033333  0.033333  0.033333  \n",
      "2022-12-27  3.333333e-02  3.333333e-02  0.033333  0.033333  0.033333  \n",
      "2022-12-28  3.333333e-02  3.333333e-02  0.033333  0.033333  0.033333  \n",
      "2022-12-29  3.333333e-02  3.333333e-02  0.033333  0.033333  0.033333  \n",
      "2022-12-30  3.333333e-02  3.333333e-02  0.033333  0.033333  0.033333  \n",
      "\n",
      "[500 rows x 30 columns]\n"
     ]
    }
   ],
   "source": [
    "print(allocations_df)"
   ]
  },
  {
   "cell_type": "markdown",
   "id": "59dfd44e",
   "metadata": {},
   "source": [
    "#### Visualizations"
   ]
  },
  {
   "cell_type": "code",
   "execution_count": null,
   "id": "126cfb5b",
   "metadata": {},
   "outputs": [],
   "source": []
  }
 ],
 "metadata": {
  "kernelspec": {
   "display_name": "Python 3 (ipykernel)",
   "language": "python",
   "name": "python3"
  },
  "language_info": {
   "codemirror_mode": {
    "name": "ipython",
    "version": 3
   },
   "file_extension": ".py",
   "mimetype": "text/x-python",
   "name": "python",
   "nbconvert_exporter": "python",
   "pygments_lexer": "ipython3",
   "version": "3.9.13"
  }
 },
 "nbformat": 4,
 "nbformat_minor": 5
}
